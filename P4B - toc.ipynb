{
 "cells": [
  {
   "cell_type": "markdown",
   "metadata": {
    "nbpresent": {
     "id": "f06e02a9-3a39-435b-ac82-fd4cf82f82dd"
    },
    "slideshow": {
     "slide_type": "slide"
    }
   },
   "source": [
    "\n",
    "# Python2 for beginners (P4B)\n",
    "<p style=\"text-align: center;\">Luca Ferroni <luca@befair.it></p>\n",
    "\n",
    "<p style=\"text-align: center;\">**Software Libero per i territori**</p>\n",
    "\n",
    "* Professionale: http://www.befair.it ![logo](http://www.befair.it/wp-content/themes/befair-theme/img/beFair.jpg)\n",
    "* Associativo: http://pdp.linux.it ![logo](http://www.fabrianodigital.it/wp-content/uploads/2016/04/logoPDP_restyleFlat300.png)"
   ]
  },
  {
   "cell_type": "markdown",
   "metadata": {
    "nbpresent": {
     "id": "752eff46-03ba-4063-a936-003a81f75378"
    },
    "slideshow": {
     "slide_type": "fragment"
    }
   },
   "source": [
    "## 1: Base\n"
   ]
  },
  {
   "cell_type": "code",
   "execution_count": 6,
   "metadata": {
    "collapsed": false
   },
   "outputs": [
    {
     "name": "stdout",
     "output_type": "stream",
     "text": [
      "Hello students!\n",
      "Ciao Patrizia\n",
      "Ciao Patrizia\n",
      "Ciao Monica\n",
      "Ciao Monica\n"
     ]
    }
   ],
   "source": [
    "print(\"Hello students!\")\n",
    "students = ['Emanuele', 'Simone', \n",
    "     'Elena', 'Gianluca', \n",
    "     'Paolo', 'Simone0', \n",
    "     'Sonia']\n",
    "\n",
    "students = []\n",
    "students.append('Patrizia')\n",
    "students += ['Monica']\n",
    "\n",
    "for s in students:\n",
    "    print(\"Ciao {}\".format(s))\n",
    "    print(\"Ciao %s\" % s)"
   ]
  },
  {
   "cell_type": "markdown",
   "metadata": {
    "nbpresent": {
     "id": "3df6bc36-7ec6-491a-ad70-96b6d9b4fe84"
    },
    "slideshow": {
     "slide_type": "fragment"
    }
   },
   "source": [
    "## 2: Persistenza e ricerca"
   ]
  },
  {
   "cell_type": "markdown",
   "metadata": {
    "nbpresent": {
     "id": "93b8dbc1-345c-40ab-be84-203336e607d1"
    },
    "slideshow": {
     "slide_type": "fragment"
    }
   },
   "source": [
    "## 3: OOP e profilazione del codice"
   ]
  },
  {
   "cell_type": "markdown",
   "metadata": {
    "nbpresent": {
     "id": "88f98559-88db-4cfe-8ebb-5e6a1ab4c8a1"
    },
    "slideshow": {
     "slide_type": "fragment"
    }
   },
   "source": [
    "## 4: Unicode, sottoprocessi e pacchettizzazione"
   ]
  },
  {
   "cell_type": "markdown",
   "metadata": {
    "slideshow": {
     "slide_type": "slide"
    }
   },
   "source": [
    "![python logo](https://www.python.org/static/community_logos/python-logo-master-v3-TM.png)\n",
    "\n",
    "![sphinx logo](https://upload.wikimedia.org/wikipedia/en/d/dc/Sphinx_Python_Documentation_Logo.png)\n",
    "\n",
    "![py.test logo](http://doc.pytest.org/en/latest/_static/pytest1.png)\n",
    "\n",
    "![git logo](https://git-scm.com/images/logos/downloads/Git-Logo-2Color.png)\n",
    "\n",
    "![git for windows](https://git-for-windows.github.io/img/gwindows_logo.png)\n",
    "\n",
    "![github logo](https://assets-cdn.github.com/images/modules/logos_page/GitHub-Logo.png)"
   ]
  },
  {
   "cell_type": "markdown",
   "metadata": {
    "nbpresent": {
     "id": "11edb288-f69a-46f1-8be9-1309bfe873f5"
    },
    "slideshow": {
     "slide_type": "slide"
    }
   },
   "source": [
    "# CAPITOLO 1: base\n",
    "\n",
    "## TEORIA:  \n",
    "\n",
    "* vedo il primo codice python,  \n",
    "* principi e strumenti di base (la shell python, pip) \n",
    "* numeri, stringhe, condizioni, sequenze, insiemi, dizionari,  \n",
    "* funzioni,  \n",
    "* stack di eccezioni \n",
    "* unittest e py.test\n",
    "\n",
    "## PRATICA:  \n",
    "\n",
    "* implementazione inserimento anagrafica,  \n",
    "* test driven development: il mio primo test \n",
    "* l'utente fornisce i dati in input, il programma effettua un calcolo basandosi su un dizionario e restituisce i dati in output \n",
    "* si mostra come creare un repository git per salvare le modifiche al programma \n",
    "* si scrive il README.rst "
   ]
  },
  {
   "cell_type": "markdown",
   "metadata": {
    "nbpresent": {
     "id": "59020e5b-a37e-42c1-9082-322cadfabfcb"
    },
    "slideshow": {
     "slide_type": "slide"
    }
   },
   "source": [
    "# CAPITOLO 2: persistenza e ricerca\n",
    "## TEORIA: \n",
    "* gestione file \n",
    "* xml con ElementTree \n",
    "* csv \n",
    "* DB API e sqlite \n",
    "* espressioni regolari \n",
    "\n",
    "## PRATICA: \n",
    "* il software salva i dati su file in vari formati \n",
    "* salvataggio su database sqlite \n",
    "* ricerca dei dati preesistenti con espressioni regolari \n",
    "\n"
   ]
  },
  {
   "cell_type": "markdown",
   "metadata": {
    "nbpresent": {
     "id": "c86d323e-94e6-4e27-be63-59424667d81b"
    },
    "slideshow": {
     "slide_type": "slide"
    }
   },
   "source": [
    "# CAPITOLO 3: OOP, refactoring e profilazione\n",
    "\n",
    "## TEORIA: \n",
    "* OOP: classi base e derivate, attributi di classe e di istanza, metodi statici, \n",
    "properties, overload e override \n",
    "* Profilazione del codice \n",
    "\n",
    "## PRATICA: \n",
    "    \n",
    "* refactoring ad oggetti per il salvataggio dati in vari formati \n",
    "* profilazione con mprofile e cProfile \n",
    "* avvio realizzazione serializzatori csv/xml/json in OOP \n",
    "\n"
   ]
  },
  {
   "cell_type": "markdown",
   "metadata": {
    "nbpresent": {
     "id": "b95e6591-856d-40cb-810b-b4c0d540d407"
    },
    "slideshow": {
     "slide_type": "slide"
    }
   },
   "source": [
    "# CAPITOLO 4: unicode, sottoprocessi pacchettizzazione\n",
    "\n",
    "## TEORIA: \n",
    "* Unicode encoding/decoding e problemi \n",
    "* Sottoprocessi \n",
    "* Pacchettizzazione PyPi con setup.py  \n",
    "\n",
    "## PRATICA: \n",
    "* fine realizzazione serializzatore dati in vari formati \n",
    "* Test unicode \n",
    "* Esecuzione sottoprocesso \n",
    "* Pacchettizzazione \n"
   ]
  },
  {
   "cell_type": "code",
   "execution_count": null,
   "metadata": {
    "collapsed": true,
    "nbpresent": {
     "id": "d5fdc896-7c4a-487e-8fc5-ced5ef954e8b"
    }
   },
   "outputs": [],
   "source": []
  }
 ],
 "metadata": {
  "anaconda-cloud": {},
  "celltoolbar": "Slideshow",
  "kernelspec": {
   "display_name": "Python [Root]",
   "language": "python",
   "name": "Python [Root]"
  },
  "language_info": {
   "codemirror_mode": {
    "name": "ipython",
    "version": 2
   },
   "file_extension": ".py",
   "mimetype": "text/x-python",
   "name": "python",
   "nbconvert_exporter": "python",
   "pygments_lexer": "ipython2",
   "version": "2.7.12"
  },
  "nbpresent": {
   "slides": {
    "08fd416a-143b-4629-9adf-887800c7a56c": {
     "id": "08fd416a-143b-4629-9adf-887800c7a56c",
     "prev": "fdb28082-b872-4586-b2c1-c8fb1a136fc2",
     "regions": {
      "be39a0a0-23b5-4381-8b1e-890d9fc4909e": {
       "attrs": {
        "height": 0.8,
        "width": 0.8,
        "x": 0.1,
        "y": 0.1
       },
       "content": {
        "cell": "59020e5b-a37e-42c1-9082-322cadfabfcb",
        "part": "whole"
       },
       "id": "be39a0a0-23b5-4381-8b1e-890d9fc4909e"
      }
     }
    },
    "299914ff-94ac-4c26-8d7f-400b4cf0a4ae": {
     "id": "299914ff-94ac-4c26-8d7f-400b4cf0a4ae",
     "prev": null,
     "regions": {
      "46272e2a-2503-4c6e-9b34-5356023be969": {
       "attrs": {
        "height": 0.07137023604046,
        "width": 0.8,
        "x": 0.1,
        "y": 0.5
       },
       "content": {
        "cell": "3df6bc36-7ec6-491a-ad70-96b6d9b4fe84",
        "part": "whole"
       },
       "id": "46272e2a-2503-4c6e-9b34-5356023be969"
      },
      "5ebeace1-1426-43e3-b2ac-609532697fec": {
       "attrs": {
        "height": 0.4,
        "width": 0.8,
        "x": 0.1,
        "y": 0.5
       },
       "content": {
        "cell": "88f98559-88db-4cfe-8ebb-5e6a1ab4c8a1",
        "part": "whole"
       },
       "id": "5ebeace1-1426-43e3-b2ac-609532697fec"
      },
      "a0bde39a-9c14-4241-b4e1-4f10a41bd321": {
       "attrs": {
        "height": 0.0812291304635941,
        "width": 0.8,
        "x": 0.10184854270433763,
        "y": 0.37183437249925666
       },
       "content": {
        "cell": "752eff46-03ba-4063-a936-003a81f75378",
        "part": "whole"
       },
       "id": "a0bde39a-9c14-4241-b4e1-4f10a41bd321"
      },
      "a0c60af4-f2db-4227-8e14-dd5243dd58ad": {
       "attrs": {
        "height": 0.8,
        "width": 0.8,
        "x": 0.1,
        "y": 0.1
       },
       "content": {
        "cell": "f06e02a9-3a39-435b-ac82-fd4cf82f82dd",
        "part": "whole"
       },
       "id": "a0c60af4-f2db-4227-8e14-dd5243dd58ad"
      },
      "d3569de0-4752-41f8-8289-c6de61441fc5": {
       "attrs": {
        "height": 0.07794283232254941,
        "width": 0.8,
        "x": 0.1,
        "y": 0.6349252127799582
       },
       "content": {
        "cell": "93b8dbc1-345c-40ab-be84-203336e607d1",
        "part": "whole"
       },
       "id": "d3569de0-4752-41f8-8289-c6de61441fc5"
      }
     }
    },
    "375917ed-8594-46dc-a094-0724e4fc0132": {
     "id": "375917ed-8594-46dc-a094-0724e4fc0132",
     "prev": "08fd416a-143b-4629-9adf-887800c7a56c",
     "regions": {
      "11199d8e-52e4-49ec-8f6b-01816d35b11f": {
       "attrs": {
        "height": 0.8,
        "width": 0.8,
        "x": 0.1,
        "y": 0.1
       },
       "content": {
        "cell": "c86d323e-94e6-4e27-be63-59424667d81b",
        "part": "whole"
       },
       "id": "11199d8e-52e4-49ec-8f6b-01816d35b11f"
      }
     }
    },
    "e94ff0d5-ad4c-4427-94ff-0312d3344334": {
     "id": "e94ff0d5-ad4c-4427-94ff-0312d3344334",
     "prev": "375917ed-8594-46dc-a094-0724e4fc0132",
     "regions": {
      "0644e3ce-d7d3-40fb-a079-508519ec623e": {
       "attrs": {
        "height": 0.4,
        "width": 0.8,
        "x": 0.1,
        "y": 0.5
       },
       "content": {
        "cell": "d5fdc896-7c4a-487e-8fc5-ced5ef954e8b",
        "part": "whole"
       },
       "id": "0644e3ce-d7d3-40fb-a079-508519ec623e"
      },
      "87018ed9-1ad2-4051-b9d2-031df80d1893": {
       "attrs": {
        "height": 0.8,
        "width": 0.8,
        "x": 0.1,
        "y": 0.1
       },
       "content": {
        "cell": "b95e6591-856d-40cb-810b-b4c0d540d407",
        "part": "whole"
       },
       "id": "87018ed9-1ad2-4051-b9d2-031df80d1893"
      }
     }
    },
    "fdb28082-b872-4586-b2c1-c8fb1a136fc2": {
     "id": "fdb28082-b872-4586-b2c1-c8fb1a136fc2",
     "prev": "299914ff-94ac-4c26-8d7f-400b4cf0a4ae",
     "regions": {
      "43b3b531-ab11-465b-b8c1-ab2cbff5d355": {
       "attrs": {
        "height": 0.8,
        "width": 0.8,
        "x": 0.1,
        "y": 0.1
       },
       "content": {
        "cell": "11edb288-f69a-46f1-8be9-1309bfe873f5",
        "part": "whole"
       },
       "id": "43b3b531-ab11-465b-b8c1-ab2cbff5d355"
      }
     }
    }
   },
   "themes": {}
  }
 },
 "nbformat": 4,
 "nbformat_minor": 0
}
