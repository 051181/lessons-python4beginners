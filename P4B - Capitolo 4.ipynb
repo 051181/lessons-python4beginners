{
 "cells": [
  {
   "cell_type": "markdown",
   "metadata": {},
   "source": [
    "# Capitolo 4 - una nuova speranza..."
   ]
  },
  {
   "cell_type": "markdown",
   "metadata": {},
   "source": [
    "## Concludere ieri"
   ]
  },
  {
   "cell_type": "markdown",
   "metadata": {},
   "source": [
    "### Operatore \"is\""
   ]
  },
  {
   "cell_type": "code",
   "execution_count": 9,
   "metadata": {
    "collapsed": false
   },
   "outputs": [
    {
     "name": "stdout",
     "output_type": "stream",
     "text": [
      "x is False? True\n",
      "(505971624L, 505971624L)\n",
      "\n",
      "x is 10? True\n",
      "(6126144L, 6126144L)\n",
      "\n",
      "# y = x\n",
      "x is y? True\n",
      "(60189000L, 60189000L)\n",
      "\n",
      "# y = copy.copy(x)\n",
      "x is y? False\n",
      "x == y? True\n",
      "(58541768L, 60189064L)\n"
     ]
    }
   ],
   "source": [
    "# Verifica l'identità di un oggetto\n",
    "x = False\n",
    "print(\"x is False? {}\".format(x is False))\n",
    "print(id(x), id(False))\n",
    "\n",
    "x = 10\n",
    "print(\"\\nx is 10? {}\".format(x is 10))\n",
    "print(id(x), id(10))\n",
    "\n",
    "x = [10, 3, 9]\n",
    "y = x\n",
    "print(\"\\n# y = x\")\n",
    "print(\"x is y? {}\".format(x is y))\n",
    "print(id(x), id(y))\n",
    "      \n",
    "import copy\n",
    "x = [10, 3, 9]\n",
    "y = copy.copy(x)\n",
    "print(\"\\n# y = copy.copy(x)\")\n",
    "print(\"x is y? {}\".format(x is y))\n",
    "print(\"x == y? {}\".format(x == y))\n",
    "print(id(x), id(y))"
   ]
  },
  {
   "cell_type": "markdown",
   "metadata": {},
   "source": [
    "### BONUS: stipendi random(!)"
   ]
  },
  {
   "cell_type": "code",
   "execution_count": 25,
   "metadata": {
    "collapsed": false
   },
   "outputs": [
    {
     "data": {
      "text/plain": [
       "[{'city': 'Fabriano', 'name': 'Luca', 'salary': 2112},\n",
       " {'city': 'Fabriano', 'name': 'Simone', 'salary': 2081},\n",
       " {'city': 'Mondavio', 'name': 'Elena', 'salary': 1794},\n",
       " {'city': 'Senigallia', 'name': 'Gianluca', 'salary': 24},\n",
       " {'city': 'Roma', 'name': 'Monica', 'salary': 1221},\n",
       " {'city': 'Bari', 'name': 'Sonia', 'salary': 1493},\n",
       " {'city': 'Bari', 'name': 'Patrizia', 'salary': 1720}]"
      ]
     },
     "execution_count": 25,
     "metadata": {},
     "output_type": "execute_result"
    }
   ],
   "source": [
    "import random\n",
    "\n",
    "r = lambda : int(random.random()*3000)\n",
    "\n",
    "# Uguale a\n",
    "# def r():\n",
    "#     return int(random.random()*3000)\n",
    "\n",
    "PEOPLE = [\n",
    "    {\"name\": \"Luca\", \"city\": \"Fabriano\", \"salary\": r()},\n",
    "    {\"name\": \"Simone\", \"city\": \"Fabriano\", \"salary\": r()},\n",
    "    {\"name\": \"Elena\", \"city\": \"Mondavio\", \"salary\":r()},\n",
    "    {\"name\": \"Gianluca\", \"city\": \"Senigallia\", \"salary\": r()},\n",
    "    {\"name\": \"Monica\", \"city\": \"Roma\", \"salary\": r()},\n",
    "{\"name\": \"Sonia\", \"city\": \"Bari\", \"salary\": r()},\n",
    "{\"name\": \"Patrizia\", \"city\": \"Bari\", \"salary\": r()},]\n",
    "\n",
    "PEOPLE"
   ]
  },
  {
   "cell_type": "markdown",
   "metadata": {},
   "source": [
    "### Raggruppare gli elementi per città"
   ]
  },
  {
   "cell_type": "code",
   "execution_count": 23,
   "metadata": {
    "collapsed": false
   },
   "outputs": [
    {
     "name": "stdout",
     "output_type": "stream",
     "text": [
      "{'Bari': [{'city': 'Bari', 'name': 'Sonia', 'salary': 2106},\n",
      "          {'city': 'Bari', 'name': 'Patrizia', 'salary': 1252}],\n",
      " 'Fabriano': [{'city': 'Fabriano', 'name': 'Luca', 'salary': 1622},\n",
      "              {'city': 'Fabriano', 'name': 'Simone', 'salary': 2664}],\n",
      " 'Mondavio': [{'city': 'Mondavio', 'name': 'Elena', 'salary': 1502}],\n",
      " 'Roma': [{'city': 'Roma', 'name': 'Monica', 'salary': 52}],\n",
      " 'Senigallia': [{'city': 'Senigallia', 'name': 'Gianluca', 'salary': 2944}]}\n"
     ]
    }
   ],
   "source": [
    "city_map = {}\n",
    "for p in PEOPLE:\n",
    "    city = p[\"city\"]\n",
    "    city_map[city] = city_map.get(city, [])\n",
    "    city_map[city].append(p)\n",
    "    \n",
    "import pprint\n",
    "pprint.pprint(city_map)"
   ]
  },
  {
   "cell_type": "markdown",
   "metadata": {},
   "source": [
    "### BONUS: Ordinamento per chiave del dizionario"
   ]
  },
  {
   "cell_type": "code",
   "execution_count": 16,
   "metadata": {
    "collapsed": false
   },
   "outputs": [
    {
     "data": {
      "text/plain": [
       "[{'city': 'Mondavio', 'name': 'Elena', 'salary': 15},\n",
       " {'city': 'Senigallia', 'name': 'Gianluca', 'salary': 15},\n",
       " {'city': 'Fabriano', 'name': 'Luca', 'salary': 3},\n",
       " {'city': 'Roma', 'name': 'Monica', 'salary': 20},\n",
       " {'city': 'Bari', 'name': 'Patrizia', 'salary': 20},\n",
       " {'city': 'Fabriano', 'name': 'Simone', 'salary': 10},\n",
       " {'city': 'Bari', 'name': 'Sonia', 'salary': 20}]"
      ]
     },
     "execution_count": 16,
     "metadata": {},
     "output_type": "execute_result"
    }
   ],
   "source": [
    "PEOPLE.sort(key=lambda x: x[\"name\"])\n",
    "PEOPLE"
   ]
  },
  {
   "cell_type": "code",
   "execution_count": 17,
   "metadata": {
    "collapsed": false
   },
   "outputs": [
    {
     "data": {
      "text/plain": [
       "[{'city': 'Fabriano', 'name': 'Luca', 'salary': 3},\n",
       " {'city': 'Fabriano', 'name': 'Simone', 'salary': 10},\n",
       " {'city': 'Mondavio', 'name': 'Elena', 'salary': 15},\n",
       " {'city': 'Senigallia', 'name': 'Gianluca', 'salary': 15},\n",
       " {'city': 'Roma', 'name': 'Monica', 'salary': 20},\n",
       " {'city': 'Bari', 'name': 'Patrizia', 'salary': 20},\n",
       " {'city': 'Bari', 'name': 'Sonia', 'salary': 20}]"
      ]
     },
     "execution_count": 17,
     "metadata": {},
     "output_type": "execute_result"
    }
   ],
   "source": [
    "PEOPLE.sort(key=lambda x: x[\"salary\"])\n",
    "PEOPLE"
   ]
  },
  {
   "cell_type": "markdown",
   "metadata": {},
   "source": [
    "### Classi che prendono in input fname"
   ]
  },
  {
   "cell_type": "code",
   "execution_count": 26,
   "metadata": {
    "collapsed": true
   },
   "outputs": [],
   "source": [
    "# v. gestionale/managers01/"
   ]
  },
  {
   "cell_type": "markdown",
   "metadata": {},
   "source": [
    "## DB-API"
   ]
  },
  {
   "cell_type": "code",
   "execution_count": null,
   "metadata": {
    "collapsed": true
   },
   "outputs": [],
   "source": [
    "# [PEP 249](https://www.python.org/dev/peps/pep-0249/)\n",
    "# v. gestionale/managers02/db.py"
   ]
  },
  {
   "cell_type": "markdown",
   "metadata": {},
   "source": [
    "## Decoratori"
   ]
  },
  {
   "cell_type": "code",
   "execution_count": 29,
   "metadata": {
    "collapsed": false
   },
   "outputs": [
    {
     "name": "stdout",
     "output_type": "stream",
     "text": [
      "Prima di eseguirti...\n",
      "Ciao a chi?\n"
     ]
    }
   ],
   "source": [
    "def wrappitto(f):\n",
    "    print(\"Prima di eseguirti...\")\n",
    "    return f\n",
    "\n",
    "@wrappitto\n",
    "def hello(who=\"a chi?\"):\n",
    "    print(\"Ciao {}\".format(who))\n",
    "\n",
    "hello()"
   ]
  },
  {
   "cell_type": "code",
   "execution_count": 30,
   "metadata": {
    "collapsed": true
   },
   "outputs": [],
   "source": [
    "# v. managers03/base.py , decori.py e db.py"
   ]
  },
  {
   "cell_type": "markdown",
   "metadata": {},
   "source": [
    "## Profilazione del codice con i decoratori"
   ]
  },
  {
   "cell_type": "code",
   "execution_count": 31,
   "metadata": {
    "collapsed": true
   },
   "outputs": [],
   "source": [
    "from functools import wraps \n",
    "\n",
    "def profileme(f):\n",
    "    start = time.time()\n",
    "    @wraps\n",
    "    def wrapper(*args, **kw):\n",
    "        return f(*args, **kw)\n",
    "    stop = time.time()\n",
    "    print(\"Tempo {} secondi\".format(stop-start))\n",
    "    return wrapper"
   ]
  },
  {
   "cell_type": "markdown",
   "metadata": {},
   "source": [
    "#### v. anche modulo timeit"
   ]
  },
  {
   "cell_type": "markdown",
   "metadata": {},
   "source": [
    "#### v. memory_profiler di terze parti\n",
    "\n",
    "* https://pypi.python.org/pypi/memory_profiler\n",
    "* pip install memory_profiler\n",
    "* decoratore di funzione @profile"
   ]
  },
  {
   "cell_type": "markdown",
   "metadata": {},
   "source": [
    "## Unicode, una croce sopra\n",
    "\n",
    "### mettete sempre la u prima delle stringhe (u\"\")\n",
    "\n",
    "v. unicode HowTO nelle references sotto"
   ]
  },
  {
   "cell_type": "code",
   "execution_count": 41,
   "metadata": {
    "collapsed": false
   },
   "outputs": [
    {
     "ename": "UnicodeDecodeError",
     "evalue": "'ascii' codec can't decode byte 0xc3 in position 0: ordinal not in range(128)",
     "output_type": "error",
     "traceback": [
      "\u001b[1;31m---------------------------------------------------------------------------\u001b[0m",
      "\u001b[1;31mUnicodeDecodeError\u001b[0m                        Traceback (most recent call last)",
      "\u001b[1;32m<ipython-input-41-49a710a02967>\u001b[0m in \u001b[0;36m<module>\u001b[1;34m()\u001b[0m\n\u001b[1;32m----> 1\u001b[1;33m \u001b[1;33m(\u001b[0m\u001b[1;34mu\"Papà\"\u001b[0m \u001b[1;33m+\u001b[0m \u001b[1;34m\"è\"\u001b[0m\u001b[1;33m)\u001b[0m\u001b[1;33m\u001b[0m\u001b[0m\n\u001b[0m",
      "\u001b[1;31mUnicodeDecodeError\u001b[0m: 'ascii' codec can't decode byte 0xc3 in position 0: ordinal not in range(128)"
     ]
    }
   ],
   "source": [
    "(u\"Papà\" + \"è\")"
   ]
  },
  {
   "cell_type": "markdown",
   "metadata": {},
   "source": [
    "### Leggere e scrivere files con contenuti Unicode"
   ]
  },
  {
   "cell_type": "code",
   "execution_count": 32,
   "metadata": {
    "collapsed": false
   },
   "outputs": [
    {
     "name": "stdout",
     "output_type": "stream",
     "text": [
      "u'\\u4500'\n",
      "u'\\u4500 blah blah blah\\n'\n"
     ]
    }
   ],
   "source": [
    "import codecs\n",
    "\n",
    "f = codecs.open('unicode.rst', encoding='utf-8', mode='w+')\n",
    "f.write(u'\\u4500 blah blah blah\\n')\n",
    "f.seek(0)\n",
    "print repr(f.readline()[:1])\n",
    "f.close()\n",
    "\n",
    "f = codecs.open('unicode.rst', encoding='utf-8')\n",
    "for line in f:\n",
    "    print repr(line)\n",
    "    "
   ]
  },
  {
   "cell_type": "raw",
   "metadata": {},
   "source": [
    "The most important tip is:\n",
    "\n",
    "    Software should only work with Unicode strings internally, converting to a particular encoding on output."
   ]
  },
  {
   "cell_type": "code",
   "execution_count": null,
   "metadata": {
    "collapsed": true
   },
   "outputs": [],
   "source": []
  },
  {
   "cell_type": "markdown",
   "metadata": {},
   "source": [
    "## Testare con Unittest"
   ]
  },
  {
   "cell_type": "code",
   "execution_count": null,
   "metadata": {
    "collapsed": true
   },
   "outputs": [],
   "source": [
    "# v. modulo unittest"
   ]
  },
  {
   "cell_type": "markdown",
   "metadata": {},
   "source": [
    "## Multithread"
   ]
  },
  {
   "cell_type": "code",
   "execution_count": null,
   "metadata": {
    "collapsed": true
   },
   "outputs": [],
   "source": [
    "# v. modulo threading"
   ]
  },
  {
   "cell_type": "markdown",
   "metadata": {},
   "source": [
    "## References python 2.7\n",
    "\n",
    "* [IL Tutorial](https://docs.python.org/2.7/tutorial/)\n",
    "    * [Coding Style](https://docs.python.org/2.7/tutorial/controlflow.html#intermezzo-coding-style)\n",
    "* [Le funzioni builtins](https://docs.python.org/2.7/library/functions.html) (su ipython >>> ``help(__builtins__))``\n",
    "* [Gli HowTo](https://docs.python.org/2.7/howto/index.html) (tra cui \"Unicode HowTo\" e \"Idioms and Anti-Idioms in Python\")\n",
    "* [Tipi, operatori e comparazioni](https://docs.python.org/2.7/library/stdtypes.html)\n",
    "* [String format mini-language](https://docs.python.org/2.7/library/string.html#formatspec)\n",
    "* [DB-API 2.0 (PEP 249)](https://www.python.org/dev/peps/pep-0249/)\n",
    "* [Scope delle variabili (blog)](http://www.saltycrane.com/blog/2008/01/python-variable-scope-notes/)\n",
    "* [Test con PyTest](http://doc.pytest.org/)"
   ]
  },
  {
   "cell_type": "code",
   "execution_count": 56,
   "metadata": {
    "collapsed": false
   },
   "outputs": [],
   "source": [
    "phrase = \"happy-python-hacking!\"\n",
    "the_end = u\" \".join([s.capitalize() for s in phrase.split(\"-\")])\n"
   ]
  },
  {
   "cell_type": "code",
   "execution_count": null,
   "metadata": {
    "collapsed": true
   },
   "outputs": [],
   "source": []
  }
 ],
 "metadata": {
  "anaconda-cloud": {},
  "kernelspec": {
   "display_name": "Python [Root]",
   "language": "python",
   "name": "Python [Root]"
  },
  "language_info": {
   "codemirror_mode": {
    "name": "ipython",
    "version": 2
   },
   "file_extension": ".py",
   "mimetype": "text/x-python",
   "name": "python",
   "nbconvert_exporter": "python",
   "pygments_lexer": "ipython2",
   "version": "2.7.12"
  }
 },
 "nbformat": 4,
 "nbformat_minor": 0
}
