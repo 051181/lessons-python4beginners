{
 "cells": [
  {
   "cell_type": "markdown",
   "metadata": {},
   "source": [
    "# Capitolo 4 - una nuova speranza..."
   ]
  },
  {
   "cell_type": "markdown",
   "metadata": {},
   "source": [
    "## Concludere ieri"
   ]
  },
  {
   "cell_type": "code",
   "execution_count": 76,
   "metadata": {
    "collapsed": false
   },
   "outputs": [
    {
     "data": {
      "text/plain": [
       "{2: 2, 4: 4, 6: 6, 8: 8, 16: 16, 80: 80, 146: 146, 1600: 1600}"
      ]
     },
     "execution_count": 76,
     "metadata": {},
     "output_type": "execute_result"
    }
   ],
   "source": [
    "l = [1,2,3,4, 800, 40, 73, 8]\n",
    "ll = [x*2 for x in l]\n",
    "# ll = [2, 4, 6, 8, 1600, 80, 146, 16]\n",
    "\n",
    "# list(enumerate(l))\n",
    "{ k: k*2 for k in l }\n",
    "ll.append(\"pippo\")\n",
    "zip(l, ll, ll, ll)\n",
    "\n",
    "{ pippo: v for k,v,pippo in zip(l, ll, ll) }\n",
    "\n",
    "x,y,z = 1,5,10"
   ]
  },
  {
   "cell_type": "markdown",
   "metadata": {},
   "source": [
    "### Operatore \"is\""
   ]
  },
  {
   "cell_type": "code",
   "execution_count": 83,
   "metadata": {
    "collapsed": false
   },
   "outputs": [
    {
     "name": "stdout",
     "output_type": "stream",
     "text": [
      "\n",
      "# y = copy.copy(x)\n",
      "x is y? False\n",
      "x == y? True\n",
      "(57176712L, 61642760L)\n"
     ]
    }
   ],
   "source": [
    "import copy\n",
    "x = [10, 3, 9]\n",
    "y = copy.copy(x)\n",
    "print(\"\\n# y = copy.copy(x)\")\n",
    "print(\"x is y? {}\".format(x is y))\n",
    "print(\"x == y? {}\".format(x == y))\n",
    "print(id(x), id(y))"
   ]
  },
  {
   "cell_type": "code",
   "execution_count": 9,
   "metadata": {
    "collapsed": false
   },
   "outputs": [
    {
     "name": "stdout",
     "output_type": "stream",
     "text": [
      "x is False? True\n",
      "(505971624L, 505971624L)\n",
      "\n",
      "x is 10? True\n",
      "(6126144L, 6126144L)\n",
      "\n",
      "# y = x\n",
      "x is y? True\n",
      "(60189000L, 60189000L)\n",
      "\n",
      "# y = copy.copy(x)\n",
      "x is y? False\n",
      "x == y? True\n",
      "(58541768L, 60189064L)\n"
     ]
    }
   ],
   "source": [
    "# Verifica l'identità di un oggetto\n",
    "x = False\n",
    "print(\"x is False? {}\".format(x is False))\n",
    "print(id(x), id(False))\n",
    "\n",
    "x = 10\n",
    "print(\"\\nx is 10? {}\".format(x is 10))\n",
    "print(id(x), id(10))\n",
    "\n",
    "x = [10, 3, 9]\n",
    "y = x\n",
    "print(\"\\n# y = x\")\n",
    "print(\"x is y? {}\".format(x is y))\n",
    "print(id(x), id(y))\n",
    "      \n",
    "import copy\n",
    "x = [10, 3, 9]\n",
    "y = copy.copy(x)\n",
    "print(\"\\n# y = copy.copy(x)\")\n",
    "print(\"x is y? {}\".format(x is y))\n",
    "print(\"x == y? {}\".format(x == y))\n",
    "print(id(x), id(y))"
   ]
  },
  {
   "cell_type": "markdown",
   "metadata": {},
   "source": [
    "### BONUS: stipendi random(!)"
   ]
  },
  {
   "cell_type": "code",
   "execution_count": 2,
   "metadata": {
    "collapsed": false
   },
   "outputs": [
    {
     "data": {
      "text/plain": [
       "[{'city': 'Fabriano', 'name': 'Luca', 'salary': 1544},\n",
       " {'city': 'Fabriano', 'name': 'Simone', 'salary': 292},\n",
       " {'city': 'Mondavio', 'name': 'Elena', 'salary': 767},\n",
       " {'city': 'Senigallia', 'name': 'Gianluca', 'salary': 2159},\n",
       " {'city': 'Roma', 'name': 'Monica', 'salary': 238},\n",
       " {'city': 'Bari', 'name': 'Sonia', 'salary': 570},\n",
       " {'city': 'Bari', 'name': 'Patrizia', 'salary': 2099}]"
      ]
     },
     "execution_count": 2,
     "metadata": {},
     "output_type": "execute_result"
    }
   ],
   "source": [
    "import random\n",
    "\n",
    "r = lambda : int(random.random()*3000)\n",
    "\n",
    "# Uguale a\n",
    "# def r():\n",
    "#     return int(random.random()*3000)\n",
    "\n",
    "PEOPLE = [\n",
    "    {\"name\": \"Luca\", \"city\": \"Fabriano\", \"salary\": r()},\n",
    "    {\"name\": \"Simone\", \"city\": \"Fabriano\", \"salary\": r()},\n",
    "    {\"name\": \"Elena\", \"city\": \"Mondavio\", \"salary\":r()},\n",
    "    {\"name\": \"Gianluca\", \"city\": \"Senigallia\", \"salary\": r()},\n",
    "    {\"name\": \"Monica\", \"city\": \"Roma\", \"salary\": r()},\n",
    "{\"name\": \"Sonia\", \"city\": \"Bari\", \"salary\": r()},\n",
    "{\"name\": \"Patrizia\", \"city\": \"Bari\", \"salary\": r()},]\n",
    "\n",
    "PEOPLE"
   ]
  },
  {
   "cell_type": "markdown",
   "metadata": {},
   "source": [
    "### Raggruppare gli elementi per città"
   ]
  },
  {
   "cell_type": "code",
   "execution_count": 102,
   "metadata": {
    "collapsed": false
   },
   "outputs": [
    {
     "name": "stdout",
     "output_type": "stream",
     "text": [
      "{'Bari': [{'city': 'Bari', 'name': 'Sonia', 'salary': 479},\n",
      "          {'city': 'Bari', 'name': 'Patrizia', 'salary': 2157}],\n",
      " 'Fabriano': [{'city': 'Fabriano', 'name': 'Luca', 'salary': 587},\n",
      "              {'city': 'Fabriano', 'name': 'Simone', 'salary': 59}],\n",
      " 'Mondavio': [{'city': 'Mondavio', 'name': 'Elena', 'salary': 1478}],\n",
      " 'Roma': [{'city': 'Roma', 'name': 'Monica', 'salary': 531}],\n",
      " 'Senigallia': [{'city': 'Senigallia', 'name': 'Gianluca', 'salary': 851}]}\n"
     ]
    }
   ],
   "source": [
    "city_map = {}\n",
    "for p in PEOPLE:\n",
    "    city = p[\"city\"]\n",
    "    city_map[city] = city_map.get(city, [])\n",
    "    city_map[city].append(p)\n",
    "    \n",
    "import pprint\n",
    "pprint.pprint(city_map)"
   ]
  },
  {
   "cell_type": "code",
   "execution_count": 98,
   "metadata": {
    "collapsed": false
   },
   "outputs": [
    {
     "name": "stdout",
     "output_type": "stream",
     "text": [
      "{'pippo': []}\n"
     ]
    }
   ],
   "source": [
    "class DictList(dict):\n",
    "\n",
    "     def get(self, k, default=None):\n",
    "         if k not in self:\n",
    "            self[k] = []\n",
    "         return super(DictList, self).get(k, default)\n",
    "\n",
    "     def __getitem__(self, k):\n",
    "         if k not in self:\n",
    "            # self[k] = []\n",
    "            super(DictList, self).__setitem__(k, [])\n",
    "            \n",
    "         return super(DictList, self).__getitem__(k)\n",
    "        \n",
    "city_map = DictList()\n",
    "l = city_map.get(\"pippo\")\n",
    "print(city_map)"
   ]
  },
  {
   "cell_type": "code",
   "execution_count": 101,
   "metadata": {
    "collapsed": false
   },
   "outputs": [
    {
     "name": "stdout",
     "output_type": "stream",
     "text": [
      "{'Bari': [{'city': 'Bari', 'name': 'Sonia', 'salary': 479},\n",
      "          {'city': 'Bari', 'name': 'Patrizia', 'salary': 2157}],\n",
      " 'Fabriano': [{'city': 'Fabriano', 'name': 'Luca', 'salary': 587},\n",
      "              {'city': 'Fabriano', 'name': 'Simone', 'salary': 59}],\n",
      " 'Mondavio': [{'city': 'Mondavio', 'name': 'Elena', 'salary': 1478}],\n",
      " 'Roma': [{'city': 'Roma', 'name': 'Monica', 'salary': 531}],\n",
      " 'Senigallia': [{'city': 'Senigallia', 'name': 'Gianluca', 'salary': 851}]}\n"
     ]
    }
   ],
   "source": [
    "city_map = DictList()\n",
    "for p in PEOPLE:\n",
    "    city = p[\"city\"]\n",
    "    # city_map[city] = city_map.get(city, [])\n",
    "    city_map.get(city).append(p)\n",
    "    \n",
    "import pprint\n",
    "pprint.pprint(city_map)"
   ]
  },
  {
   "cell_type": "markdown",
   "metadata": {},
   "source": [
    "### BONUS: Ordinamento per chiave del dizionario"
   ]
  },
  {
   "cell_type": "code",
   "execution_count": 109,
   "metadata": {
    "collapsed": false
   },
   "outputs": [
    {
     "data": {
      "text/plain": [
       "[{'city': 'Bari', 'name': 'Patrizia', 'salary': 2157},\n",
       " {'city': 'Bari', 'name': 'Sonia', 'salary': 479},\n",
       " {'city': 'Fabriano', 'name': 'Luca', 'salary': 587},\n",
       " {'city': 'Fabriano', 'name': 'Simone', 'salary': 59},\n",
       " {'city': 'Mondavio', 'name': 'Elena', 'salary': 1478},\n",
       " {'city': 'Roma', 'name': 'Monica', 'salary': 531},\n",
       " {'city': 'Senigallia', 'name': 'Gianluca', 'salary': 851}]"
      ]
     },
     "execution_count": 109,
     "metadata": {},
     "output_type": "execute_result"
    }
   ],
   "source": [
    "# def get_name(x):\n",
    "#    return (x[\"city\"], x[\"name\"]) \n",
    "# PEOPLE.sort(key=get_name)\n",
    "\n",
    "PEOPLE.sort(key=lambda x: (x[\"city\"], x[\"name\"]))\n",
    "\n",
    "PEOPLE"
   ]
  },
  {
   "cell_type": "code",
   "execution_count": 17,
   "metadata": {
    "collapsed": false
   },
   "outputs": [
    {
     "data": {
      "text/plain": [
       "[{'city': 'Fabriano', 'name': 'Luca', 'salary': 3},\n",
       " {'city': 'Fabriano', 'name': 'Simone', 'salary': 10},\n",
       " {'city': 'Mondavio', 'name': 'Elena', 'salary': 15},\n",
       " {'city': 'Senigallia', 'name': 'Gianluca', 'salary': 15},\n",
       " {'city': 'Roma', 'name': 'Monica', 'salary': 20},\n",
       " {'city': 'Bari', 'name': 'Patrizia', 'salary': 20},\n",
       " {'city': 'Bari', 'name': 'Sonia', 'salary': 20}]"
      ]
     },
     "execution_count": 17,
     "metadata": {},
     "output_type": "execute_result"
    }
   ],
   "source": [
    "PEOPLE.sort(key=lambda x: x[\"salary\"])\n",
    "PEOPLE"
   ]
  },
  {
   "cell_type": "markdown",
   "metadata": {},
   "source": [
    "### Classi che prendono in input fname"
   ]
  },
  {
   "cell_type": "code",
   "execution_count": 26,
   "metadata": {
    "collapsed": true
   },
   "outputs": [],
   "source": [
    "# v. gestionale/managers01/"
   ]
  },
  {
   "cell_type": "code",
   "execution_count": 119,
   "metadata": {
    "collapsed": false
   },
   "outputs": [
    {
     "name": "stdout",
     "output_type": "stream",
     "text": [
      "Esporto qualcosa per te\n"
     ]
    },
    {
     "ename": "AttributeError",
     "evalue": "'FileManager' object has no attribute '_FileManager__privateattr'",
     "output_type": "error",
     "traceback": [
      "\u001b[1;31m---------------------------------------------------------------------------\u001b[0m",
      "\u001b[1;31mAttributeError\u001b[0m                            Traceback (most recent call last)",
      "\u001b[1;32m<ipython-input-119-a9a4533ad29d>\u001b[0m in \u001b[0;36m<module>\u001b[1;34m()\u001b[0m\n\u001b[0;32m     17\u001b[0m \u001b[1;33m\u001b[0m\u001b[0m\n\u001b[0;32m     18\u001b[0m \u001b[0mmymanager\u001b[0m \u001b[1;33m=\u001b[0m \u001b[0mFileManager\u001b[0m\u001b[1;33m(\u001b[0m\u001b[1;33m)\u001b[0m\u001b[1;33m\u001b[0m\u001b[0m\n\u001b[1;32m---> 19\u001b[1;33m \u001b[0mmymanager\u001b[0m\u001b[1;33m.\u001b[0m\u001b[0mdo_export\u001b[0m\u001b[1;33m(\u001b[0m\u001b[1;33m[\u001b[0m\u001b[1;36m1\u001b[0m\u001b[1;33m,\u001b[0m\u001b[1;36m2\u001b[0m\u001b[1;33m]\u001b[0m\u001b[1;33m)\u001b[0m\u001b[1;33m\u001b[0m\u001b[0m\n\u001b[0m\u001b[0;32m     20\u001b[0m \u001b[0mmymanger\u001b[0m\u001b[1;33m.\u001b[0m\u001b[0m__privateattr\u001b[0m\u001b[1;33m\u001b[0m\u001b[0m\n",
      "\u001b[1;32m<ipython-input-119-a9a4533ad29d>\u001b[0m in \u001b[0;36mdo_export\u001b[1;34m(self, rows)\u001b[0m\n\u001b[0;32m      3\u001b[0m         \u001b[0mself\u001b[0m\u001b[1;33m.\u001b[0m\u001b[0m__privateattr\u001b[0m \u001b[1;33m=\u001b[0m \u001b[1;34m\"PRIVATO\"\u001b[0m\u001b[1;33m\u001b[0m\u001b[0m\n\u001b[0;32m      4\u001b[0m         \u001b[1;32mprint\u001b[0m\u001b[1;33m(\u001b[0m\u001b[1;34mu\"Esporto qualcosa per te\"\u001b[0m\u001b[1;33m)\u001b[0m\u001b[1;33m\u001b[0m\u001b[0m\n\u001b[1;32m----> 5\u001b[1;33m         \u001b[0mrv\u001b[0m \u001b[1;33m=\u001b[0m \u001b[0mself\u001b[0m\u001b[1;33m.\u001b[0m\u001b[0m_internal_do_export\u001b[0m\u001b[1;33m(\u001b[0m\u001b[0mrows\u001b[0m\u001b[1;33m)\u001b[0m\u001b[1;33m\u001b[0m\u001b[0m\n\u001b[0m\u001b[0;32m      6\u001b[0m         \u001b[1;32mreturn\u001b[0m \u001b[0mrv\u001b[0m\u001b[1;33m\u001b[0m\u001b[0m\n\u001b[0;32m      7\u001b[0m \u001b[1;33m\u001b[0m\u001b[0m\n",
      "\u001b[1;32m<ipython-input-119-a9a4533ad29d>\u001b[0m in \u001b[0;36m_internal_do_export\u001b[1;34m(self, rows)\u001b[0m\n\u001b[0;32m      8\u001b[0m \u001b[1;32mclass\u001b[0m \u001b[0mFileManager\u001b[0m\u001b[1;33m(\u001b[0m\u001b[0mBaseManager\u001b[0m\u001b[1;33m)\u001b[0m\u001b[1;33m:\u001b[0m\u001b[1;33m\u001b[0m\u001b[0m\n\u001b[0;32m      9\u001b[0m     \u001b[1;32mdef\u001b[0m \u001b[0m_internal_do_export\u001b[0m\u001b[1;33m(\u001b[0m\u001b[0mself\u001b[0m\u001b[1;33m,\u001b[0m \u001b[0mrows\u001b[0m\u001b[1;33m)\u001b[0m\u001b[1;33m:\u001b[0m\u001b[1;33m\u001b[0m\u001b[0m\n\u001b[1;32m---> 10\u001b[1;33m         \u001b[1;32mprint\u001b[0m\u001b[1;33m(\u001b[0m\u001b[0mself\u001b[0m\u001b[1;33m.\u001b[0m\u001b[0m__privateattr\u001b[0m\u001b[1;33m)\u001b[0m\u001b[1;33m\u001b[0m\u001b[0m\n\u001b[0m\u001b[0;32m     11\u001b[0m         \u001b[1;32mprint\u001b[0m\u001b[1;33m(\u001b[0m\u001b[1;34mu\"ti esporto\"\u001b[0m\u001b[1;33m)\u001b[0m\u001b[1;33m\u001b[0m\u001b[0m\n\u001b[0;32m     12\u001b[0m \u001b[1;33m\u001b[0m\u001b[0m\n",
      "\u001b[1;31mAttributeError\u001b[0m: 'FileManager' object has no attribute '_FileManager__privateattr'"
     ]
    }
   ],
   "source": [
    "class BaseManager(object):\n",
    "    def do_export(self, rows):\n",
    "        self.__privateattr = \"PRIVATO\"\n",
    "        print(u\"Esporto qualcosa per te\")\n",
    "        rv = self._internal_do_export(rows)\n",
    "        return rv\n",
    "    \n",
    "class FileManager(BaseManager):\n",
    "    def _internal_do_export(self, rows):\n",
    "        print(self.__privateattr)\n",
    "        print(u\"ti esporto\")\n",
    "        \n",
    "class ExtraFileManager(FileManager):\n",
    "    def _internal_do_export(self, rows):\n",
    "        print(u\"ti esporto extra\")\n",
    "\n",
    "        \n",
    "mymanager = FileManager()\n",
    "mymanager.do_export([1,2])\n",
    "mymanger.__privateattr\n"
   ]
  },
  {
   "cell_type": "code",
   "execution_count": 131,
   "metadata": {
    "collapsed": false
   },
   "outputs": [],
   "source": [
    "t = list((row[k] for k in (\"name\", \"city\", \"salary\")))"
   ]
  },
  {
   "cell_type": "markdown",
   "metadata": {},
   "source": [
    "## Decoratori"
   ]
  },
  {
   "cell_type": "code",
   "execution_count": 150,
   "metadata": {
    "collapsed": false
   },
   "outputs": [
    {
     "name": "stdout",
     "output_type": "stream",
     "text": [
      "Prima di eseguirti...\n",
      "...Dopo l'esecuzione\n",
      "Ciao a chi?\n"
     ]
    }
   ],
   "source": [
    "# **row\n",
    "\n",
    "def wrappitto(f):\n",
    "    print(\"Prima di eseguirti...\")\n",
    "    rv = f\n",
    "    print(\"...Dopo l'esecuzione\")\n",
    "    return rv\n",
    "\n",
    "@wrappitto\n",
    "def hello(who=\"a chi?\"):\n",
    "    print(\"Ciao {}\".format(who))\n",
    "\n",
    "hello()"
   ]
  },
  {
   "cell_type": "code",
   "execution_count": 151,
   "metadata": {
    "collapsed": false
   },
   "outputs": [
    {
     "name": "stdout",
     "output_type": "stream",
     "text": [
      "Prima di eseguirti...\n",
      "Ciao a chi?\n",
      "...Dopo l'esecuzione\n"
     ]
    }
   ],
   "source": [
    "def wrappitto(f):\n",
    "    \n",
    "    def myfun(*args, **kwargs):\n",
    "        print(\"Prima di eseguirti...\")\n",
    "        rv = f(*args, **kwargs)\n",
    "        print(\"...Dopo l'esecuzione\")\n",
    "        return rv \n",
    "    \n",
    "    return myfun\n",
    "\n",
    "# hello = wrappitto(hello)\n",
    "# hello = myfun\n",
    "# hello(who=\"pippo\")\n",
    "\n",
    "@wrappitto\n",
    "def hello(who=\"a chi?\"):\n",
    "    print(\"Ciao {}\".format(who))\n",
    "\n",
    "hello()"
   ]
  },
  {
   "cell_type": "code",
   "execution_count": 185,
   "metadata": {
    "collapsed": false
   },
   "outputs": [
    {
     "name": "stdout",
     "output_type": "stream",
     "text": [
      "ciao \n",
      "(1, 2, 3)\n",
      "[1, 2, 3]\n"
     ]
    }
   ],
   "source": [
    "def myprint(*args):\n",
    "    for i, arg in enumerate(args):\n",
    "        print(\"argomento {} = {}\".format(i, arg))\n",
    "\n",
    "def myprint_by_kw(*args, **kw):\n",
    "    l = kw.values() + list(args)\n",
    "    print(\"{} \".format(*args))\n",
    "\n",
    "# myprint(\"ciao\", \"pippo\", 1, {1:\"bue\"})\n",
    "myprint_by_kw(\"ciao\", name=\"pippo\", city=\"Fabriano\", salary=1)\n",
    "\n",
    "print(1,2,3)\n",
    "l = [1,2,3]\n",
    "print(l)"
   ]
  },
  {
   "cell_type": "code",
   "execution_count": 186,
   "metadata": {
    "collapsed": false
   },
   "outputs": [
    {
     "data": {
      "text/plain": [
       "'pippo'"
      ]
     },
     "execution_count": 186,
     "metadata": {},
     "output_type": "execute_result"
    }
   ],
   "source": [
    "\"{name}\".format(name=\"pippo\")"
   ]
  },
  {
   "cell_type": "code",
   "execution_count": 187,
   "metadata": {
    "collapsed": false
   },
   "outputs": [
    {
     "data": {
      "text/plain": [
       "'pippo'"
      ]
     },
     "execution_count": 187,
     "metadata": {},
     "output_type": "execute_result"
    }
   ],
   "source": [
    "d = {\"name\": \"pippo\"}\n",
    "\"{name}\".format(**d)"
   ]
  },
  {
   "cell_type": "code",
   "execution_count": 190,
   "metadata": {
    "collapsed": false
   },
   "outputs": [
    {
     "data": {
      "text/plain": [
       "'1 2'"
      ]
     },
     "execution_count": 190,
     "metadata": {},
     "output_type": "execute_result"
    }
   ],
   "source": [
    "l = [1,2]\n",
    "\"{} {}\".format(*l)"
   ]
  },
  {
   "cell_type": "code",
   "execution_count": 193,
   "metadata": {
    "collapsed": false
   },
   "outputs": [
    {
     "data": {
      "text/plain": [
       "'myfun'"
      ]
     },
     "execution_count": 193,
     "metadata": {},
     "output_type": "execute_result"
    }
   ],
   "source": [
    "def myfun():\n",
    "    \"\"\"\n",
    "    la mia docstring\n",
    "    \"\"\"\n",
    "    print(\"ciao\")\n",
    "    \n",
    "myfun.__doc__\n",
    "myfun.__name__"
   ]
  },
  {
   "cell_type": "code",
   "execution_count": 30,
   "metadata": {
    "collapsed": true
   },
   "outputs": [],
   "source": [
    "# v. managers03/base.py , decori.py e db.py"
   ]
  },
  {
   "cell_type": "markdown",
   "metadata": {},
   "source": [
    "## Profilazione del codice con i decoratori"
   ]
  },
  {
   "cell_type": "code",
   "execution_count": 31,
   "metadata": {
    "collapsed": true
   },
   "outputs": [],
   "source": [
    "from functools import wraps \n",
    "\n",
    "def profileme(f):\n",
    "    start = time.time()\n",
    "    @wraps\n",
    "    def wrapper(*args, **kw):\n",
    "        return f(*args, **kw)\n",
    "    stop = time.time()\n",
    "    print(\"Tempo {} secondi\".format(stop-start))\n",
    "    return wrapper"
   ]
  },
  {
   "cell_type": "markdown",
   "metadata": {},
   "source": [
    "#### v. anche modulo timeit"
   ]
  },
  {
   "cell_type": "markdown",
   "metadata": {},
   "source": [
    "#### v. memory_profiler di terze parti\n",
    "\n",
    "* https://pypi.python.org/pypi/memory_profiler\n",
    "* pip install memory_profiler\n",
    "* decoratore di funzione @profile"
   ]
  },
  {
   "cell_type": "markdown",
   "metadata": {},
   "source": [
    "## Testare con Unittest"
   ]
  },
  {
   "cell_type": "code",
   "execution_count": null,
   "metadata": {
    "collapsed": true
   },
   "outputs": [],
   "source": [
    "# v. modulo unittest"
   ]
  },
  {
   "cell_type": "markdown",
   "metadata": {},
   "source": [
    "## Multithread"
   ]
  },
  {
   "cell_type": "code",
   "execution_count": null,
   "metadata": {
    "collapsed": true
   },
   "outputs": [],
   "source": [
    "# v. modulo threading"
   ]
  }
 ],
 "metadata": {
  "anaconda-cloud": {},
  "kernelspec": {
   "display_name": "Python [conda root]",
   "language": "python",
   "name": "conda-root-py"
  },
  "language_info": {
   "codemirror_mode": {
    "name": "ipython",
    "version": 2
   },
   "file_extension": ".py",
   "mimetype": "text/x-python",
   "name": "python",
   "nbconvert_exporter": "python",
   "pygments_lexer": "ipython2",
   "version": "2.7.12"
  }
 },
 "nbformat": 4,
 "nbformat_minor": 0
}
